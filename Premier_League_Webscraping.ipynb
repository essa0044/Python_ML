{
  "nbformat": 4,
  "nbformat_minor": 0,
  "metadata": {
    "colab": {
      "provenance": []
    },
    "kernelspec": {
      "name": "python3",
      "display_name": "Python 3"
    },
    "language_info": {
      "name": "python"
    }
  },
  "cells": [
    {
      "cell_type": "code",
      "execution_count": null,
      "metadata": {
        "id": "R4XDpDh81mIZ"
      },
      "outputs": [],
      "source": [
        "import requests\n"
      ]
    },
    {
      "cell_type": "markdown",
      "source": [],
      "metadata": {
        "id": "EKp86NBI1nIK"
      }
    },
    {
      "cell_type": "code",
      "source": [
        "standings_url = \"https://fbref.com/en/comps/9/Premier-League-Stats\""
      ],
      "metadata": {
        "id": "OXbPIwda1njx"
      },
      "execution_count": null,
      "outputs": []
    },
    {
      "cell_type": "code",
      "source": [
        "data = requests.get(standings_url)"
      ],
      "metadata": {
        "id": "qyaIEodT2JBF"
      },
      "execution_count": null,
      "outputs": []
    },
    {
      "cell_type": "code",
      "source": [
        "from bs4 import BeautifulSoup"
      ],
      "metadata": {
        "id": "aq__xina2JZ3"
      },
      "execution_count": null,
      "outputs": []
    },
    {
      "cell_type": "code",
      "source": [
        "soup = BeautifulSoup(data.text)"
      ],
      "metadata": {
        "id": "2zBta7Or2JdZ"
      },
      "execution_count": null,
      "outputs": []
    },
    {
      "cell_type": "code",
      "source": [
        "standings_table = soup.select('table.stats_table')[0]"
      ],
      "metadata": {
        "id": "iwnLzmc12Jgi"
      },
      "execution_count": null,
      "outputs": []
    },
    {
      "cell_type": "code",
      "source": [
        "standings_table"
      ],
      "metadata": {
        "id": "emM-F_xG2Jjt"
      },
      "execution_count": null,
      "outputs": []
    },
    {
      "cell_type": "code",
      "source": [
        "links = standings_table.find_all('a')"
      ],
      "metadata": {
        "id": "tCK3LtFW4-SP"
      },
      "execution_count": null,
      "outputs": []
    },
    {
      "cell_type": "code",
      "source": [
        "links = [l.get('href') for l in links]"
      ],
      "metadata": {
        "id": "XrXw-Ioc4-c9"
      },
      "execution_count": null,
      "outputs": []
    },
    {
      "cell_type": "code",
      "source": [
        "links = [l for l in links if '/squads/' in l]"
      ],
      "metadata": {
        "id": "spJVHP3I4-gq"
      },
      "execution_count": null,
      "outputs": []
    },
    {
      "cell_type": "code",
      "source": [
        "links"
      ],
      "metadata": {
        "id": "Ej5g4iYB4-j_"
      },
      "execution_count": null,
      "outputs": []
    },
    {
      "cell_type": "code",
      "source": [
        "team_urls = [f\"https://fbref.com{l}\" for l in links]"
      ],
      "metadata": {
        "id": "N4SmcF1g6hql"
      },
      "execution_count": null,
      "outputs": []
    },
    {
      "cell_type": "code",
      "source": [
        "team_url = team_urls[0]"
      ],
      "metadata": {
        "id": "IzPePpR16htj"
      },
      "execution_count": null,
      "outputs": []
    },
    {
      "cell_type": "code",
      "source": [
        "data = requests.get(team_url)"
      ],
      "metadata": {
        "id": "TT9n9_S76hwu"
      },
      "execution_count": null,
      "outputs": []
    },
    {
      "cell_type": "code",
      "source": [
        "import pandas as pd\n",
        "matches = pd.read_html(data.text, match=\"Scores & Fixtures\")"
      ],
      "metadata": {
        "id": "uN4oqsEC6h0D"
      },
      "execution_count": null,
      "outputs": []
    },
    {
      "cell_type": "code",
      "source": [
        "matches[0].head()"
      ],
      "metadata": {
        "id": "OkSzq-Qp6h2L"
      },
      "execution_count": null,
      "outputs": []
    },
    {
      "cell_type": "code",
      "source": [
        "soup = BeautifulSoup(data.text)"
      ],
      "metadata": {
        "id": "2CbwmE3V6h4z"
      },
      "execution_count": null,
      "outputs": []
    },
    {
      "cell_type": "code",
      "source": [
        "links = soup.find_all(\"a\")"
      ],
      "metadata": {
        "id": "sADVUFb788r3"
      },
      "execution_count": null,
      "outputs": []
    },
    {
      "cell_type": "code",
      "source": [
        "links = [l.get(\"href\") for l in links]"
      ],
      "metadata": {
        "id": "EIh12M9488u0"
      },
      "execution_count": null,
      "outputs": []
    },
    {
      "cell_type": "code",
      "source": [
        "links = [l for l in links if l and 'all_comps/shooting/' in l]"
      ],
      "metadata": {
        "id": "-Nx0Ydv-88xb"
      },
      "execution_count": null,
      "outputs": []
    },
    {
      "cell_type": "code",
      "source": [
        "links\n"
      ],
      "metadata": {
        "id": "ElqQnVcL880m"
      },
      "execution_count": null,
      "outputs": []
    },
    {
      "cell_type": "code",
      "source": [
        "data = requests.get(f\"https://fbref.com{links[0]}\")"
      ],
      "metadata": {
        "id": "iwtHIRoZ883c"
      },
      "execution_count": null,
      "outputs": []
    },
    {
      "cell_type": "code",
      "source": [
        "shooting = pd.read_html(data.text, match = \"Shooting\")[0]"
      ],
      "metadata": {
        "id": "rHsNSLtc9_NG"
      },
      "execution_count": null,
      "outputs": []
    },
    {
      "cell_type": "code",
      "source": [
        "shooting.head()"
      ],
      "metadata": {
        "id": "0QPB6H1I9_Q2"
      },
      "execution_count": null,
      "outputs": []
    },
    {
      "cell_type": "code",
      "source": [
        "shooting.columns = shooting.columns.droplevel()"
      ],
      "metadata": {
        "id": "b7sev0R_BC05"
      },
      "execution_count": null,
      "outputs": []
    },
    {
      "cell_type": "code",
      "source": [
        "shooting.head()"
      ],
      "metadata": {
        "id": "41VQH5fOBC4F"
      },
      "execution_count": null,
      "outputs": []
    },
    {
      "cell_type": "code",
      "source": [
        "shooting[\"Date\"]"
      ],
      "metadata": {
        "id": "xFYfXpY1BC7P"
      },
      "execution_count": null,
      "outputs": []
    },
    {
      "cell_type": "code",
      "source": [
        "team_data = matches[0].merge(shooting[[\"Date\", \"Sh\", \"SoT\", \"Dist\", \"PK\", \"FK\", \"PKatt\"]], on= \"Date\")"
      ],
      "metadata": {
        "id": "HxyNpIQiBC-l"
      },
      "execution_count": null,
      "outputs": []
    },
    {
      "cell_type": "code",
      "source": [
        "team_data.head()"
      ],
      "metadata": {
        "id": "dU62Rks3BDBB"
      },
      "execution_count": null,
      "outputs": []
    },
    {
      "cell_type": "code",
      "source": [
        "years = list(range(2022, 2020, -1))"
      ],
      "metadata": {
        "id": "idBQ1H1bENPR"
      },
      "execution_count": null,
      "outputs": []
    },
    {
      "cell_type": "code",
      "source": [
        "all_matches = []"
      ],
      "metadata": {
        "id": "jtnXb9e6ENSm"
      },
      "execution_count": null,
      "outputs": []
    },
    {
      "cell_type": "code",
      "source": [
        "standings_url = \"https://fbref.com/en/comps/9/Premier-League-Stats\""
      ],
      "metadata": {
        "id": "QYDCnw0BENVw"
      },
      "execution_count": null,
      "outputs": []
    },
    {
      "cell_type": "code",
      "source": [
        "import time\n",
        "for year in years:\n",
        "  data = requests.get(standings_url)\n",
        "  soup = BeautifulSoup(data.text)\n",
        "  standings_table = soup.select('table.stats_table')[0]\n",
        "  links = [l.get(\"href\") for l in standings_table.find_all('a')]\n",
        "  links = [l for l in links if '/squads/' in l]\n",
        "  team_urls = [f\"https://fbref.com{l}\" for l in links]\n",
        "  previous_season = soup.select(\"a.prev\")[0].get(\"href\")\n",
        "  standings_url = f\"https://fbref.com{previous_season}\"\n",
        "\n",
        "\n",
        "  for team_url in team_urls:\n",
        "      team_name = team_url.split(\"/\")[-1].replace(\"-Stats\", \"\").replace(\"-\", \" \")\n",
        "\n",
        "      data = requests.get(team_url)\n",
        "      matches = pd.read_html(data.text, match=\"Scores & Fixtures\")[0]\n",
        "\n",
        "      soup = BeautifulSoup(data.text)\n",
        "      links = [l.get(\"href\") for l in soup.find_all('a')]\n",
        "      links = [ l for l in links if l and \"/all_comps/shooting/\" in l]\n",
        "      data = requests.get(f\"https://fbref.com{links[0]}\")\n",
        "      shooting = pd.read_html(data.text, match = \"Shooting\")[0]\n",
        "      shooting.columns = shooting.columns.droplevel()\n",
        "\n",
        "      try:\n",
        "        team_data = matches.merge(shooting[[\"Date\", \"Sh\", \"SoT\", \"Dist\", \"PK\", \"FK\", \"PKatt\"]], on = \"Date\")\n",
        "      except ValueError:\n",
        "        continue\n",
        "\n",
        "      team_data = team_data[team_data[\"Comp\"] == \"Premier League\"]\n",
        "      team_data[\"Season\"] = year\n",
        "      team_data[\"Team\"] = team_name\n",
        "      all_matches.append(team_data)\n",
        "      time.sleep(1)\n",
        "\n",
        "\n",
        "\n",
        "\n",
        "\n",
        "\n",
        "\n",
        "\n",
        "\n",
        "\n",
        "\n"
      ],
      "metadata": {
        "id": "HAQrPnZ7ENY9"
      },
      "execution_count": null,
      "outputs": []
    },
    {
      "cell_type": "code",
      "source": [
        "team_url.split(\"/\")[-1].replace(\"-Stats\", \"\").replace(\"-\", \" \")"
      ],
      "metadata": {
        "id": "cZsRZ3O8ENdG"
      },
      "execution_count": null,
      "outputs": []
    },
    {
      "cell_type": "code",
      "source": [
        "match_df = pd.concat(all_matches)"
      ],
      "metadata": {
        "id": "DHPjVLm-ENfn"
      },
      "execution_count": null,
      "outputs": []
    },
    {
      "cell_type": "code",
      "source": [
        "match_df"
      ],
      "metadata": {
        "id": "tH4MlUGnENl9"
      },
      "execution_count": null,
      "outputs": []
    },
    {
      "cell_type": "code",
      "source": [
        "match_df.columns = [c.lower() for c in match_df.columns]"
      ],
      "metadata": {
        "id": "WowFkAyFENox"
      },
      "execution_count": null,
      "outputs": []
    },
    {
      "cell_type": "code",
      "source": [
        "match_df.to_csv(\"matches.csv\")"
      ],
      "metadata": {
        "id": "dOq13632ENsH"
      },
      "execution_count": null,
      "outputs": []
    },
    {
      "cell_type": "code",
      "source": [],
      "metadata": {
        "id": "wsgvPTUJENuZ"
      },
      "execution_count": null,
      "outputs": []
    }
  ]
}