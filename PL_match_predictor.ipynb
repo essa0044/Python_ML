{
  "nbformat": 4,
  "nbformat_minor": 0,
  "metadata": {
    "colab": {
      "provenance": []
    },
    "kernelspec": {
      "name": "python3",
      "display_name": "Python 3"
    },
    "language_info": {
      "name": "python"
    }
  },
  "cells": [
    {
      "cell_type": "code",
      "execution_count": null,
      "metadata": {
        "id": "yWO8OrMEmBiP"
      },
      "outputs": [],
      "source": [
        "import pandas as pd\n"
      ]
    },
    {
      "cell_type": "code",
      "source": [
        "matches = pd.read_csv(\"matches.csv\", index_col=0)\n"
      ],
      "metadata": {
        "id": "0bNIqagFmM8d"
      },
      "execution_count": null,
      "outputs": []
    },
    {
      "cell_type": "code",
      "source": [
        "matches.head()"
      ],
      "metadata": {
        "id": "gq9uedzHokFd"
      },
      "execution_count": null,
      "outputs": []
    },
    {
      "cell_type": "code",
      "source": [
        "matches.shape\n"
      ],
      "metadata": {
        "id": "R8QwXhWYmM_p"
      },
      "execution_count": null,
      "outputs": []
    },
    {
      "cell_type": "code",
      "source": [
        "matches[\"team\"].value_counts()\n"
      ],
      "metadata": {
        "id": "KaAya8Z_mNCg"
      },
      "execution_count": null,
      "outputs": []
    },
    {
      "cell_type": "code",
      "source": [
        "matches[\"round\"].value_counts()"
      ],
      "metadata": {
        "id": "2XhsKinrmNIn"
      },
      "execution_count": null,
      "outputs": []
    },
    {
      "cell_type": "code",
      "source": [
        "matches.dtypes"
      ],
      "metadata": {
        "id": "E5o1zQ8umNL9"
      },
      "execution_count": null,
      "outputs": []
    },
    {
      "cell_type": "code",
      "source": [
        "matches[\"date\"]= pd.to_datetime(matches[\"date\"])"
      ],
      "metadata": {
        "id": "KAx_eQ9xmNPd"
      },
      "execution_count": null,
      "outputs": []
    },
    {
      "cell_type": "code",
      "source": [
        "matches[\"venue_code\"] = matches[\"venue\"].astype(\"category\").cat.codes"
      ],
      "metadata": {
        "id": "AqdL1mtpmNSc"
      },
      "execution_count": null,
      "outputs": []
    },
    {
      "cell_type": "code",
      "source": [
        "matches[\"opp_code\"] = matches[\"opponent\"].astype(\"category\").cat.codes"
      ],
      "metadata": {
        "id": "D-IAFwQYmNVx"
      },
      "execution_count": null,
      "outputs": []
    },
    {
      "cell_type": "code",
      "source": [
        "matches[\"hour\"] = matches[\"time\"].str.replace(\":.+\", \"\", regex = True).astype(int)"
      ],
      "metadata": {
        "id": "ZanunikImNY9"
      },
      "execution_count": null,
      "outputs": []
    },
    {
      "cell_type": "code",
      "source": [
        "matches[\"day_code\"] = matches[\"date\"].dt.dayofweek"
      ],
      "metadata": {
        "id": "l6X0uHMsmNb8"
      },
      "execution_count": null,
      "outputs": []
    },
    {
      "cell_type": "code",
      "source": [
        "matches[\"target\"] = (matches[\"result\"] == \"W\").astype(int)"
      ],
      "metadata": {
        "id": "pXThJLTOmNfI"
      },
      "execution_count": null,
      "outputs": []
    },
    {
      "cell_type": "code",
      "source": [
        "matches"
      ],
      "metadata": {
        "id": "GC2MRCISu0PA"
      },
      "execution_count": null,
      "outputs": []
    },
    {
      "cell_type": "code",
      "source": [
        "from sklearn.ensemble import RandomForestClassifier"
      ],
      "metadata": {
        "id": "jh1SaS1MmNiT"
      },
      "execution_count": null,
      "outputs": []
    },
    {
      "cell_type": "code",
      "source": [
        "rf = RandomForestClassifier(n_estimators=50, min_samples_split=10, random_state= 1)"
      ],
      "metadata": {
        "id": "AoIAZYPzmNlb"
      },
      "execution_count": null,
      "outputs": []
    },
    {
      "cell_type": "code",
      "source": [
        "train = matches[matches[\"date\"]<'2023-01-01']"
      ],
      "metadata": {
        "id": "zWGMFpovmNom"
      },
      "execution_count": null,
      "outputs": []
    },
    {
      "cell_type": "code",
      "source": [
        "test = matches[matches[\"date\"]>'2023-01-01']"
      ],
      "metadata": {
        "id": "ZJNgr8_tmNrz"
      },
      "execution_count": null,
      "outputs": []
    },
    {
      "cell_type": "code",
      "source": [
        "predictors = [\"venue_code\", \"hour\", \"day_code\", \"opp_code\"]"
      ],
      "metadata": {
        "id": "xAGjKf8DmNu6"
      },
      "execution_count": null,
      "outputs": []
    },
    {
      "cell_type": "code",
      "source": [
        "rf.fit(train[predictors], train[\"target\"])"
      ],
      "metadata": {
        "id": "27Q7xzc-mNx8"
      },
      "execution_count": null,
      "outputs": []
    },
    {
      "cell_type": "markdown",
      "source": [
        "preds = rf.predict(test[predictors])"
      ],
      "metadata": {
        "id": "8VPFI-IamN1T"
      }
    },
    {
      "cell_type": "code",
      "source": [
        "preds = rf.predict(test[predictors])"
      ],
      "metadata": {
        "id": "epcSD3bkmOBZ"
      },
      "execution_count": null,
      "outputs": []
    },
    {
      "cell_type": "code",
      "source": [
        "from sklearn.metrics import accuracy_score"
      ],
      "metadata": {
        "id": "Ri9w0-dtx32N"
      },
      "execution_count": null,
      "outputs": []
    },
    {
      "cell_type": "code",
      "source": [
        "acc = accuracy_score(test[\"target\"], preds)"
      ],
      "metadata": {
        "id": "507DoqQzx4I7"
      },
      "execution_count": null,
      "outputs": []
    },
    {
      "cell_type": "code",
      "source": [
        "acc"
      ],
      "metadata": {
        "id": "SIRF3pBOx4iU"
      },
      "execution_count": null,
      "outputs": []
    },
    {
      "cell_type": "code",
      "source": [
        "combined = pd.DataFrame(dict(actual=test[\"target\"], prediction = preds))"
      ],
      "metadata": {
        "id": "52J8ao2EE6Y2"
      },
      "execution_count": null,
      "outputs": []
    },
    {
      "cell_type": "code",
      "source": [
        "pd.crosstab(index=combined[\"actual\"], columns=combined[\"prediction\"])"
      ],
      "metadata": {
        "id": "LwtHrMMpmN4Q"
      },
      "execution_count": null,
      "outputs": []
    },
    {
      "cell_type": "code",
      "source": [
        "from sklearn.metrics import precision_score"
      ],
      "metadata": {
        "id": "nfZMUmQ6mN7a"
      },
      "execution_count": null,
      "outputs": []
    },
    {
      "cell_type": "code",
      "source": [
        "precision_score(test[\"target\"], preds)"
      ],
      "metadata": {
        "id": "nugYDMqhmN-b"
      },
      "execution_count": null,
      "outputs": []
    },
    {
      "cell_type": "code",
      "source": [
        "grouped_matches = matches.groupby(\"team\")"
      ],
      "metadata": {
        "id": "cl8WhUi3mOEC"
      },
      "execution_count": null,
      "outputs": []
    },
    {
      "cell_type": "code",
      "source": [
        "group = grouped_matches.get_group(\"Manchester City\")"
      ],
      "metadata": {
        "id": "ASa8CKNlEHJU"
      },
      "execution_count": null,
      "outputs": []
    },
    {
      "cell_type": "code",
      "source": [
        "group"
      ],
      "metadata": {
        "id": "bD8p9-ZAEHMV"
      },
      "execution_count": null,
      "outputs": []
    },
    {
      "cell_type": "code",
      "source": [
        "def rolling_averages(group, cols, new_cols):\n",
        "  group = group.sort_values(\"date\")\n",
        "  rolling_stats= group[cols].rolling(3, closed = 'left').mean()\n",
        "  group[new_cols] = rolling_stats\n",
        "  group = group.dropna(subset=new_cols)\n",
        "  return group"
      ],
      "metadata": {
        "id": "SSRossuqEHPd"
      },
      "execution_count": null,
      "outputs": []
    },
    {
      "cell_type": "code",
      "source": [
        "cols = [\"gf\", \"ga\", \"sh\", \"sot\", \"dist\", \"fk\", \"pk\", \"pkatt\"]\n",
        "new_cols = [f\"{c}_rolling\" for c in cols]\n"
      ],
      "metadata": {
        "id": "OVCtC_WcEHSp"
      },
      "execution_count": null,
      "outputs": []
    },
    {
      "cell_type": "code",
      "source": [
        "new_cols"
      ],
      "metadata": {
        "id": "4bJU2VRPEHVn"
      },
      "execution_count": null,
      "outputs": []
    },
    {
      "cell_type": "code",
      "source": [
        "matches_rolling = matches.groupby(\"team\").apply(lambda x: rolling_averages(x, cols,new_cols))"
      ],
      "metadata": {
        "id": "EEYHjAbEEHYr"
      },
      "execution_count": null,
      "outputs": []
    },
    {
      "cell_type": "code",
      "source": [
        "matches_rolling"
      ],
      "metadata": {
        "id": "6Aact_s3EHbl"
      },
      "execution_count": null,
      "outputs": []
    },
    {
      "cell_type": "code",
      "source": [
        "matches_rolling = matches_rolling.droplevel(\"team\")"
      ],
      "metadata": {
        "id": "LRiL6JtxEHeR"
      },
      "execution_count": null,
      "outputs": []
    },
    {
      "cell_type": "code",
      "source": [
        "matches_rolling"
      ],
      "metadata": {
        "id": "NK4520VHLR2u"
      },
      "execution_count": null,
      "outputs": []
    },
    {
      "cell_type": "code",
      "source": [
        "matches_rolling.index = range(matches_rolling.shape[0])"
      ],
      "metadata": {
        "id": "XEaAFIEHLR5P"
      },
      "execution_count": null,
      "outputs": []
    },
    {
      "cell_type": "code",
      "source": [
        "matches_rolling"
      ],
      "metadata": {
        "id": "MIkZm3FdLR8b"
      },
      "execution_count": null,
      "outputs": []
    },
    {
      "cell_type": "code",
      "source": [
        "def make_predictions(data, predictors):\n",
        "  train = data[data[\"date\"]<\"2023-01-01\"]\n",
        "  test = data[data[\"date\"]>\"2023-01-01\"]\n",
        "  rf.fit(train[predictors], train[\"target\"])\n",
        "  preds = rf.predict(test[predictors])\n",
        "  combined = pd.DataFrame(dict(actual= test[\"target\"], predicted = preds), index = test.index)\n",
        "  precision = precision_score(test[\"target\"], preds)\n",
        "  return combined, precision\n",
        "\n"
      ],
      "metadata": {
        "id": "S0Q-72fWLR_G"
      },
      "execution_count": null,
      "outputs": []
    },
    {
      "cell_type": "code",
      "source": [
        "combined, precision = make_predictions(matches_rolling, predictors+new_cols)"
      ],
      "metadata": {
        "id": "KZGRE8H8LSBs"
      },
      "execution_count": null,
      "outputs": []
    },
    {
      "cell_type": "code",
      "source": [
        "precision"
      ],
      "metadata": {
        "id": "pRzrzynXLSEM"
      },
      "execution_count": null,
      "outputs": []
    },
    {
      "cell_type": "code",
      "source": [
        "combined"
      ],
      "metadata": {
        "id": "VfBqB97NLSGw"
      },
      "execution_count": null,
      "outputs": []
    },
    {
      "cell_type": "code",
      "source": [
        "combined = combined.merge(matches_rolling[[\"date\", \"team\", \"opponent\", \"result\"]], left_index = True, right_index = True)"
      ],
      "metadata": {
        "id": "V0Mlu0B-LSJQ"
      },
      "execution_count": null,
      "outputs": []
    },
    {
      "cell_type": "code",
      "source": [
        "combined"
      ],
      "metadata": {
        "id": "jvXtO1fPmMuO"
      },
      "execution_count": null,
      "outputs": []
    },
    {
      "cell_type": "code",
      "source": [
        "class MissingDict(dict):\n",
        "  __missing__ = lambda self, key:key\n",
        "\n",
        "map_values= {\n",
        "    \"Brighton and Hove Albion\": \"Brighton\",\n",
        "    \"Manchester United\": \"Manchester Utd\",\n",
        "    \"Newcastle Untitded\": \"Newcastle Utd\",\n",
        "    \"Tottenham Hotspurs\": \"Tottenham\",\n",
        "    \"Wolverhampton Wanderers\": \"Wolves\",\n",
        "    \"West Ham United\": \"West Ham\"\n",
        "}\n",
        "mapping = MissingDict(**map_values)\n"
      ],
      "metadata": {
        "id": "w-Q_vqrXmMwu"
      },
      "execution_count": null,
      "outputs": []
    },
    {
      "cell_type": "code",
      "source": [
        "mapping[\"West Ham United\"]"
      ],
      "metadata": {
        "id": "dlK_YWzwmMzV"
      },
      "execution_count": null,
      "outputs": []
    },
    {
      "cell_type": "code",
      "source": [
        "combined[\"new_team\"] = combined[\"team\"].map(mapping)"
      ],
      "metadata": {
        "id": "24-PnUSsmM1y"
      },
      "execution_count": null,
      "outputs": []
    },
    {
      "cell_type": "code",
      "source": [
        "combined"
      ],
      "metadata": {
        "id": "hVlDARzlmM4S"
      },
      "execution_count": null,
      "outputs": []
    },
    {
      "cell_type": "code",
      "source": [
        "merged = combined.merge(combined, left_on=[\"date\", \"new_team\"], right_on=[\"date\", \"opponent\"])"
      ],
      "metadata": {
        "id": "E9XF4y9PmM6k"
      },
      "execution_count": null,
      "outputs": []
    },
    {
      "cell_type": "code",
      "source": [
        "merged"
      ],
      "metadata": {
        "id": "vsoy8GpgmM9D"
      },
      "execution_count": null,
      "outputs": []
    },
    {
      "cell_type": "code",
      "source": [
        "merged[(merged[\"predicted_x\"]== 1) & (merged[\"predicted_y\"]== 0)][\"actual_x\"].value_counts()"
      ],
      "metadata": {
        "id": "6rT1a3Y3mM_u"
      },
      "execution_count": null,
      "outputs": []
    },
    {
      "cell_type": "code",
      "source": [
        "151/256"
      ],
      "metadata": {
        "id": "zf_az_PQmNCK"
      },
      "execution_count": null,
      "outputs": []
    },
    {
      "cell_type": "code",
      "source": [],
      "metadata": {
        "id": "1JQQTRZLmNEq"
      },
      "execution_count": null,
      "outputs": []
    },
    {
      "cell_type": "code",
      "source": [],
      "metadata": {
        "id": "N3Fw_7wbmNHI"
      },
      "execution_count": null,
      "outputs": []
    },
    {
      "cell_type": "code",
      "source": [],
      "metadata": {
        "id": "49ZcgMHAmNJl"
      },
      "execution_count": null,
      "outputs": []
    },
    {
      "cell_type": "code",
      "source": [],
      "metadata": {
        "id": "81h3xSRymNME"
      },
      "execution_count": null,
      "outputs": []
    },
    {
      "cell_type": "code",
      "source": [],
      "metadata": {
        "id": "HKCPBWVcmNOb"
      },
      "execution_count": null,
      "outputs": []
    },
    {
      "cell_type": "code",
      "source": [],
      "metadata": {
        "id": "2ucgzspSmNQ_"
      },
      "execution_count": null,
      "outputs": []
    },
    {
      "cell_type": "code",
      "source": [],
      "metadata": {
        "id": "wjgmLS2cmNUX"
      },
      "execution_count": null,
      "outputs": []
    },
    {
      "cell_type": "code",
      "source": [],
      "metadata": {
        "id": "KNYV4F_XLSMo"
      },
      "execution_count": null,
      "outputs": []
    }
  ]
}